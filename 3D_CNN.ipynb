{
  "cells": [
    {
      "cell_type": "markdown",
      "metadata": {
        "id": "view-in-github",
        "colab_type": "text"
      },
      "source": [
        "<a href=\"https://colab.research.google.com/github/joojinho97/2022_GC_Covid19_prediction/blob/main/3D_CNN.ipynb\" target=\"_parent\"><img src=\"https://colab.research.google.com/assets/colab-badge.svg\" alt=\"Open In Colab\"/></a>"
      ]
    },
    {
      "cell_type": "code",
      "execution_count": 1,
      "metadata": {
        "colab": {
          "base_uri": "https://localhost:8080/"
        },
        "id": "_RjcpI7mgq9y",
        "outputId": "81b1b976-8148-48ee-a544-0e57896a63f6"
      },
      "outputs": [
        {
          "output_type": "stream",
          "name": "stdout",
          "text": [
            "Collecting medpy\n",
            "  Downloading MedPy-0.4.0.tar.gz (151 kB)\n",
            "\u001b[K     |████████████████████████████████| 151 kB 13.9 MB/s \n",
            "\u001b[?25hRequirement already satisfied: scipy>=1.1.0 in /usr/local/lib/python3.7/dist-packages (from medpy) (1.4.1)\n",
            "Requirement already satisfied: numpy>=1.11.0 in /usr/local/lib/python3.7/dist-packages (from medpy) (1.19.5)\n",
            "Collecting SimpleITK>=1.1.0\n",
            "  Downloading SimpleITK-2.1.1-cp37-cp37m-manylinux_2_12_x86_64.manylinux2010_x86_64.whl (48.4 MB)\n",
            "\u001b[K     |████████████████████████████████| 48.4 MB 1.2 MB/s \n",
            "\u001b[?25hBuilding wheels for collected packages: medpy\n",
            "  Building wheel for medpy (setup.py) ... \u001b[?25l\u001b[?25hdone\n",
            "  Created wheel for medpy: filename=MedPy-0.4.0-cp37-cp37m-linux_x86_64.whl size=754445 sha256=71d63b0c243788e095834a09bf895a28d7214a26f1472360f04f84b67ca8c833\n",
            "  Stored in directory: /root/.cache/pip/wheels/b0/57/3a/da1183f22a6afb42e11138daa6a759de233fd977a984333602\n",
            "Successfully built medpy\n",
            "Installing collected packages: SimpleITK, medpy\n",
            "Successfully installed SimpleITK-2.1.1 medpy-0.4.0\n"
          ]
        }
      ],
      "source": [
        "!pip install medpy"
      ]
    },
    {
      "cell_type": "code",
      "execution_count": 2,
      "metadata": {
        "id": "laf7Lx84gsFH"
      },
      "outputs": [],
      "source": [
        "import medpy\n",
        "import os\n",
        "import matplotlib.pyplot as plt\n",
        "import tensorflow as tf\n",
        "import glob\n",
        "import pandas as pd\n",
        "import numpy as np\n",
        "import cv2\n",
        "import SimpleITK as sitk\n",
        "from sklearn.model_selection import train_test_split\n",
        "from tensorflow.keras.layers import Input, Dense,Flatten,Conv2D,Concatenate,MaxPooling2D,BatchNormalization,Activation,Add,Dropout\n",
        "from tensorflow.keras.models import Model\n",
        "from tensorflow.keras.applications import EfficientNetB7,EfficientNetB6,EfficientNetB5,EfficientNetB3,EfficientNetB1,ResNet101,ResNet50"
      ]
    },
    {
      "cell_type": "code",
      "execution_count": 3,
      "metadata": {
        "id": "ljuxZrcB7jXC"
      },
      "outputs": [],
      "source": [
        "from medpy.io import load"
      ]
    },
    {
      "cell_type": "code",
      "execution_count": 22,
      "metadata": {
        "id": "0x5F4v0VVchc"
      },
      "outputs": [],
      "source": [
        "\n",
        "os.chdir('/content/drive/MyDrive/grand_challenge/destination/data/mha/')\n",
        "data_list=glob.glob('*.mha')\n",
        "data_list.sort(key=lambda fname: int(fname.split('.')[0]))\n",
        "for i in range(len(data_list)):\n",
        "  data_list[i]='/content/drive/MyDrive/grand_challenge/destination/data/mha/'+data_list[i]"
      ]
    },
    {
      "cell_type": "code",
      "execution_count": 23,
      "metadata": {
        "id": "nDyzzS2H26sp",
        "colab": {
          "base_uri": "https://localhost:8080/",
          "height": 54
        },
        "outputId": "efa14b1f-421e-45fb-dacd-175895045fea"
      },
      "outputs": [
        {
          "output_type": "execute_result",
          "data": {
            "application/vnd.google.colaboratory.intrinsic+json": {
              "type": "string"
            },
            "text/plain": [
              "'\\nnum = np.unique(data_covid, axis=0)\\nnum = num.shape[0]\\nencoding_covid = np.eye(num)[data_covid]\\n  \\nnum = np.unique(data_severe, axis=0)\\nnum = num.shape[0]\\nencoding_severe = np.eye(num)[data_severe]\\n\\nencoding_covid=np.array(encoding_covid)\\nencoding_severe=np.array(encoding_severe)\\ny_multilabel = np.concatenate([encoding_covid, encoding_severe], axis=0)\\n'"
            ]
          },
          "metadata": {},
          "execution_count": 23
        }
      ],
      "source": [
        "data=pd.read_csv('/content/drive/MyDrive/grand_challenge/destination/metadata/reference.csv')\n",
        "data=data.sort_values(by='PatientID')\n",
        "\n",
        "\n",
        "'''\n",
        "num = np.unique(data_covid, axis=0)\n",
        "num = num.shape[0]\n",
        "encoding_covid = np.eye(num)[data_covid]\n",
        "  \n",
        "num = np.unique(data_severe, axis=0)\n",
        "num = num.shape[0]\n",
        "encoding_severe = np.eye(num)[data_severe]\n",
        "\n",
        "encoding_covid=np.array(encoding_covid)\n",
        "encoding_severe=np.array(encoding_severe)\n",
        "y_multilabel = np.concatenate([encoding_covid, encoding_severe], axis=0)\n",
        "'''"
      ]
    },
    {
      "cell_type": "code",
      "execution_count": 23,
      "metadata": {
        "id": "sJIvjeXO_CfI"
      },
      "outputs": [],
      "source": [
        ""
      ]
    },
    {
      "cell_type": "code",
      "execution_count": 24,
      "metadata": {
        "id": "ueHeAkoebRSj"
      },
      "outputs": [],
      "source": [
        "tr=list(zip(data[\"probCOVID\"].tolist(), data[\"probSevere\"].tolist()))"
      ]
    },
    {
      "cell_type": "code",
      "execution_count": 24,
      "metadata": {
        "id": "dmkv8_PE68Hg"
      },
      "outputs": [],
      "source": [
        ""
      ]
    },
    {
      "cell_type": "code",
      "execution_count": 25,
      "metadata": {
        "id": "YR0j6_FXpTBV"
      },
      "outputs": [],
      "source": [
        "train_list=data_list[:1400]\n",
        "val_list=data_list[1401:]\n",
        "train_label=tr[:1400]\n",
        "val_label=tr[1401:]"
      ]
    },
    {
      "cell_type": "code",
      "execution_count": 19,
      "metadata": {
        "id": "QxqRiCxxKK81"
      },
      "outputs": [],
      "source": [
        "test_list=data_list[401:]\n",
        "test_label=tr[401:]"
      ]
    },
    {
      "cell_type": "code",
      "execution_count": 53,
      "metadata": {
        "id": "xMQMaxBGTJkP"
      },
      "outputs": [],
      "source": [
        "from typing import Iterable\n",
        "def clip_and_normalize(np_image: np.ndarray,\n",
        "                       clip_min: int = -703,\n",
        "                       clip_max: int = -368\n",
        "                       ) -> np.ndarray:\n",
        "    np_image=np.transpose(np_image)\n",
        "    \n",
        "    np_image[np_image<clip_min]=0\n",
        "    np_image[np_image>clip_max]=0\n",
        "    #np_image = np.clip(np_image, clip_min, clip_max)\n",
        "    np_image = np_image/255.0\n",
        "    np_image=np.abs(np_image)\n",
        "    #np_image = (np_image - clip_min) / (clip_max - clip_min)\n",
        "    return np_image\n",
        "\n",
        "\n",
        "def resample(itk_image: sitk.Image,\n",
        "             new_spacing: Iterable[float],\n",
        "             outside_val: float = 0\n",
        "             ) -> sitk.Image:\n",
        "             \n",
        "    \n",
        "    #밑에 getsize getspacing 어캐 해결하지\n",
        "    shape = itk_image.GetSize()\n",
        "    spacing = itk_image.GetSpacing()\n",
        "    output_shape = tuple(int(round(s * os / ns)) for s, os, ns in zip(shape, spacing, new_spacing))\n",
        "    return sitk.Resample(\n",
        "        itk_image,\n",
        "        output_shape,\n",
        "        sitk.Transform(),\n",
        "        sitk.sitkLinear,\n",
        "        itk_image.GetOrigin(),\n",
        "        new_spacing,\n",
        "        itk_image.GetDirection(),\n",
        "        outside_val,\n",
        "        sitk.sitkFloat32,\n",
        "    )\n",
        "\n",
        "\n",
        "def center_crop(np_image: np.ndarray,\n",
        "                new_shape: Iterable[int],\n",
        "                outside_val: float = 0\n",
        "                ):\n",
        "  \n",
        "    \n",
        "    output_image = np.full(new_shape, outside_val, np_image.dtype)\n",
        "\n",
        "    slices = tuple()\n",
        "    offsets = tuple()\n",
        "    \n",
        "    for it, sh in enumerate(new_shape):\n",
        "        size = sh // 2\n",
        "        if it == 0:\n",
        "            \n",
        "            center = np_image.shape[it] - size\n",
        "            \n",
        "        else:\n",
        "            \n",
        "            center = (np_image.shape[it] // 2)\n",
        "        start = center - size\n",
        "        stop = center + size + (sh % 2)\n",
        "\n",
        "        # computing what area of the original image will be in the cropped output\n",
        "        slce = slice(max(0, start), min(np_image.shape[it], stop))\n",
        "        slices += (slce,)\n",
        "\n",
        "        # computing offset to pad if the crop is partly outside of the scan\n",
        "        offset = slice(-min(0, start), 2 * size - max(0, (start + 2 * size) - np_image.shape[it]))\n",
        "        offsets += (offset,)\n",
        "\n",
        "    output_image[offsets] = np_image[slices]\n",
        "\n",
        "    return output_image\n",
        "\n",
        "\n",
        "def preprocess(input_image: sitk.Image,\n",
        "               new_spacing: Iterable[float] = (1.6, 1.6, 1.6),\n",
        "               new_shape: Iterable[int] = (240, 240, 240),\n",
        "               ) -> np.ndarray:\n",
        "\n",
        "    input_image = resample(input_image, new_spacing=new_spacing)\n",
        "    input_image = sitk.GetArrayFromImage(input_image)\n",
        "    input_image = center_crop(input_image, new_shape=new_shape)\n",
        "    input_image = clip_and_normalize(input_image)\n",
        "    return input_image\n",
        "\n",
        "def mha2jpg(mhapath):\n",
        "        \n",
        "    mhapath=str(mhapath.numpy())[2:-1]\n",
        "\n",
        "    reader = sitk.ImageFileReader()\n",
        "    reader.SetFileName(mhapath)   # Give it the mha file as a string\n",
        "    reader.LoadPrivateTagsOn()     # Make sure it can get all the info\n",
        "    reader.ReadImageInformation()\n",
        "    \n",
        "    try:\n",
        "      gender=reader.GetMetaData('PatientSex')\n",
        "      if gender=='M':\n",
        "        genders=float(0)\n",
        "      elif gender=='F':\n",
        "        genders=float(1)\n",
        "    except:\n",
        "      genders=float(0)\n",
        "    \n",
        "    try:\n",
        "      age=reader.GetMetaData('PatientAge')\n",
        "      age=float(age)\n",
        "      \n",
        "      age=int(age)\n",
        "      if age<40:\n",
        "        age=0\n",
        "      elif age<50:\n",
        "        age=1\n",
        "      elif age<60:\n",
        "        age=2\n",
        "      elif age<70:\n",
        "        age=3\n",
        "      elif age<80:\n",
        "        age=4\n",
        "      else:\n",
        "        age=5\n",
        "    except:\n",
        "      if age=='035Y':\n",
        "        age=0\n",
        "      elif age=='045Y':\n",
        "        age=1\n",
        "      elif age=='055Y':\n",
        "        age=2\n",
        "      elif age=='065Y':\n",
        "        age=3\n",
        "      elif age=='075Y':\n",
        "        age=4\n",
        "      elif age=='085Y':\n",
        "        age=5\n",
        "\n",
        "    \n",
        "    input_image=sitk.ReadImage(mhapath)\n",
        "    \n",
        "    input_image = resample(input_image, new_spacing=(1.6, 1.6, 1.6))\n",
        "    input_image=sitk.GetArrayFromImage(input_image)\n",
        "    \n",
        "    input_image = center_crop(input_image, new_shape=(3,512,512))\n",
        "     \n",
        "    input_image = clip_and_normalize(input_image)\n",
        "    \n",
        "    age=np.expand_dims(age,axis=-1)\n",
        "    try:\n",
        "      genders=np.expand_dims(genders,axis=-1)\n",
        "    except:\n",
        "      genders=0\n",
        "      genders=np.expand_dims(genders,axis=-1)\n",
        "\n",
        "    return input_image,age,genders\n",
        "\n",
        "\n"
      ]
    },
    {
      "cell_type": "code",
      "execution_count": 54,
      "metadata": {
        "id": "saNvJMMqDG7d"
      },
      "outputs": [],
      "source": [
        "def data_(dataset):\n",
        "  \n",
        "  dataset=dataset.map(data_preprocess)  \n",
        "  return  dataset\n",
        "\n",
        "def data_preprocess(x, labels):\n",
        "  \n",
        "  \n",
        "  img,age,gender=tf.py_function(mha2jpg,inp=[x],Tout=(tf.float32,tf.float32,tf.float32))\n",
        "  return {'input_1' :img, 'age':age,'gender':gender }, {'probCOVID':labels[0], 'probSevere' :labels[1]}\n"
      ]
    },
    {
      "cell_type": "code",
      "execution_count": 55,
      "metadata": {
        "id": "hLgA16HI6w6N"
      },
      "outputs": [],
      "source": [
        "def make_dataset(train_list, tr):\n",
        "  \n",
        "  test_flist=tf.data.Dataset.from_tensor_slices((train_list, tr))\n",
        "  test_dataset=data_(test_flist)\n",
        "  test_dataset=test_dataset.batch(1)\n",
        "  test_dataset=test_dataset.prefetch(tf.data.experimental.AUTOTUNE)\n",
        "  \n",
        "  return test_dataset\n"
      ]
    },
    {
      "cell_type": "code",
      "execution_count": 56,
      "metadata": {
        "id": "3Bdw6fMtD6xS"
      },
      "outputs": [],
      "source": [
        "train_dataset=make_dataset(train_list, train_label)\n",
        "val_dataset=make_dataset(val_list,val_label)"
      ]
    },
    {
      "cell_type": "code",
      "execution_count": 57,
      "metadata": {
        "id": "7x3G69-33xm0"
      },
      "outputs": [],
      "source": [
        "input_=Input(shape=(512,512,3),name='input_1')\n",
        "input_shape=(512,512,3)\n",
        "input_age=Input(shape=(1,),name='age')\n"
      ]
    },
    {
      "cell_type": "code",
      "execution_count": 58,
      "metadata": {
        "id": "KGaTLZhuT2n2"
      },
      "outputs": [],
      "source": [
        "ef=ResNet50(weights=None,include_top=False, input_shape=input_shape, pooling=\"max\")(input_)\n",
        "\n",
        "\n",
        "\n",
        "predictions_covid = tf.keras.layers.Dense(1, activation='sigmoid',name='probCOVID')(ef)\n",
        "\n",
        "severe_dense=Concatenate()([ef,input_age,predictions_covid])\n",
        "predictions_severe = tf.keras.layers.Dense(1, activation='sigmoid',name='probSevere')(severe_dense)\n",
        "\n",
        "\n",
        "model = tf.keras.Model(inputs=[input_,input_age], outputs=[predictions_covid,predictions_severe])"
      ]
    },
    {
      "cell_type": "code",
      "execution_count": 59,
      "metadata": {
        "id": "ket39Mz44FQj"
      },
      "outputs": [],
      "source": [
        "model.compile(optimizer=tf.keras.optimizers.Adam(learning_rate=0.005), loss={'probCOVID': 'binary_crossentropy', 'probSevere':'binary_crossentropy'},metrics=[tf.keras.metrics.AUC(multi_label=True, curve='ROC', name='auc_pr')])"
      ]
    },
    {
      "cell_type": "code",
      "execution_count": 60,
      "metadata": {
        "id": "TX2coLXQOtqJ"
      },
      "outputs": [],
      "source": [
        "callbacks = [\n",
        "    tf.keras.callbacks.ModelCheckpoint('./new_{epoch:02d}.h5', verbose=True, save_weights_only=True, mode='auto'),\n",
        "    tf.keras.callbacks.ReduceLROnPlateau(monitor='val_loss', factor=0.66, patience=2, verbose=0, mode='auto', min_delta=0.0001, cooldown=0, min_lr=0),\n",
        "]"
      ]
    },
    {
      "cell_type": "code",
      "execution_count": null,
      "metadata": {
        "colab": {
          "base_uri": "https://localhost:8080/"
        },
        "id": "qw7thKv04boV",
        "outputId": "3e0f5fa0-afcd-4ebd-9fdf-fb856431745d"
      },
      "outputs": [
        {
          "output_type": "stream",
          "name": "stdout",
          "text": [
            "Epoch 1/10\n"
          ]
        },
        {
          "output_type": "stream",
          "name": "stderr",
          "text": [
            "/usr/local/lib/python3.7/dist-packages/keras/engine/functional.py:559: UserWarning: Input dict contained keys ['gender'] which did not match any model input. They will be ignored by the model.\n",
            "  inputs = self._flatten_to_reference_inputs(inputs)\n"
          ]
        },
        {
          "output_type": "stream",
          "name": "stdout",
          "text": [
            "1400/1400 [==============================] - ETA: 0s - loss: 4.1497 - probCOVID_loss: 2.5184 - probSevere_loss: 1.6313 - probCOVID_auc_pr: 0.5264 - probSevere_auc_pr: 0.5169\n",
            "Epoch 00001: saving model to ./new_01.h5\n",
            "1400/1400 [==============================] - 6676s 5s/step - loss: 4.1497 - probCOVID_loss: 2.5184 - probSevere_loss: 1.6313 - probCOVID_auc_pr: 0.5264 - probSevere_auc_pr: 0.5169 - val_loss: 1.5458 - val_probCOVID_loss: 0.9722 - val_probSevere_loss: 0.5735 - val_probCOVID_auc_pr: 0.4996 - val_probSevere_auc_pr: 0.6193 - lr: 0.0050\n",
            "Epoch 2/10\n",
            " 291/1400 [=====>........................] - ETA: 55:58 - loss: 1.2796 - probCOVID_loss: 0.8093 - probSevere_loss: 0.4703 - probCOVID_auc_pr: 0.4716 - probSevere_auc_pr: 0.5459"
          ]
        }
      ],
      "source": [
        "model.fit(train_dataset, epochs=10,validation_data=val_dataset,callbacks=callbacks)"
      ]
    },
    {
      "cell_type": "code",
      "execution_count": 20,
      "metadata": {
        "id": "3STcp_QDKIE8"
      },
      "outputs": [],
      "source": [
        "test_dataset=make_dataset(test_list,test_label)"
      ]
    },
    {
      "cell_type": "code",
      "execution_count": 21,
      "metadata": {
        "colab": {
          "base_uri": "https://localhost:8080/",
          "height": 344
        },
        "id": "k6svVj3xKYdj",
        "outputId": "85ec2f6a-edd3-44b6-f553-8933dc202514"
      },
      "outputs": [
        {
          "output_type": "stream",
          "name": "stdout",
          "text": [
            "  46/1599 [..............................] - ETA: 1:30:19 - loss: 1.2762 - probCOVID_loss: 0.7183 - probSevere_loss: 0.5579 - probCOVID_auc_pr: 0.5063 - probSevere_auc_pr: 0.4707"
          ]
        },
        {
          "output_type": "error",
          "ename": "KeyboardInterrupt",
          "evalue": "ignored",
          "traceback": [
            "\u001b[0;31m---------------------------------------------------------------------------\u001b[0m",
            "\u001b[0;31mKeyboardInterrupt\u001b[0m                         Traceback (most recent call last)",
            "\u001b[0;32m<ipython-input-21-bcac18434081>\u001b[0m in \u001b[0;36m<module>\u001b[0;34m()\u001b[0m\n\u001b[0;32m----> 1\u001b[0;31m \u001b[0mpr\u001b[0m\u001b[0;34m=\u001b[0m\u001b[0mmodel\u001b[0m\u001b[0;34m.\u001b[0m\u001b[0mevaluate\u001b[0m\u001b[0;34m(\u001b[0m\u001b[0mtest_dataset\u001b[0m\u001b[0;34m)\u001b[0m\u001b[0;34m\u001b[0m\u001b[0;34m\u001b[0m\u001b[0m\n\u001b[0m",
            "\u001b[0;32m/usr/local/lib/python3.7/dist-packages/keras/utils/traceback_utils.py\u001b[0m in \u001b[0;36merror_handler\u001b[0;34m(*args, **kwargs)\u001b[0m\n\u001b[1;32m     62\u001b[0m     \u001b[0mfiltered_tb\u001b[0m \u001b[0;34m=\u001b[0m \u001b[0;32mNone\u001b[0m\u001b[0;34m\u001b[0m\u001b[0;34m\u001b[0m\u001b[0m\n\u001b[1;32m     63\u001b[0m     \u001b[0;32mtry\u001b[0m\u001b[0;34m:\u001b[0m\u001b[0;34m\u001b[0m\u001b[0;34m\u001b[0m\u001b[0m\n\u001b[0;32m---> 64\u001b[0;31m       \u001b[0;32mreturn\u001b[0m \u001b[0mfn\u001b[0m\u001b[0;34m(\u001b[0m\u001b[0;34m*\u001b[0m\u001b[0margs\u001b[0m\u001b[0;34m,\u001b[0m \u001b[0;34m**\u001b[0m\u001b[0mkwargs\u001b[0m\u001b[0;34m)\u001b[0m\u001b[0;34m\u001b[0m\u001b[0;34m\u001b[0m\u001b[0m\n\u001b[0m\u001b[1;32m     65\u001b[0m     \u001b[0;32mexcept\u001b[0m \u001b[0mException\u001b[0m \u001b[0;32mas\u001b[0m \u001b[0me\u001b[0m\u001b[0;34m:\u001b[0m  \u001b[0;31m# pylint: disable=broad-except\u001b[0m\u001b[0;34m\u001b[0m\u001b[0;34m\u001b[0m\u001b[0m\n\u001b[1;32m     66\u001b[0m       \u001b[0mfiltered_tb\u001b[0m \u001b[0;34m=\u001b[0m \u001b[0m_process_traceback_frames\u001b[0m\u001b[0;34m(\u001b[0m\u001b[0me\u001b[0m\u001b[0;34m.\u001b[0m\u001b[0m__traceback__\u001b[0m\u001b[0;34m)\u001b[0m\u001b[0;34m\u001b[0m\u001b[0;34m\u001b[0m\u001b[0m\n",
            "\u001b[0;32m/usr/local/lib/python3.7/dist-packages/keras/engine/training.py\u001b[0m in \u001b[0;36mevaluate\u001b[0;34m(self, x, y, batch_size, verbose, sample_weight, steps, callbacks, max_queue_size, workers, use_multiprocessing, return_dict, **kwargs)\u001b[0m\n\u001b[1;32m   1535\u001b[0m             \u001b[0;32mwith\u001b[0m \u001b[0mtf\u001b[0m\u001b[0;34m.\u001b[0m\u001b[0mprofiler\u001b[0m\u001b[0;34m.\u001b[0m\u001b[0mexperimental\u001b[0m\u001b[0;34m.\u001b[0m\u001b[0mTrace\u001b[0m\u001b[0;34m(\u001b[0m\u001b[0;34m'test'\u001b[0m\u001b[0;34m,\u001b[0m \u001b[0mstep_num\u001b[0m\u001b[0;34m=\u001b[0m\u001b[0mstep\u001b[0m\u001b[0;34m,\u001b[0m \u001b[0m_r\u001b[0m\u001b[0;34m=\u001b[0m\u001b[0;36m1\u001b[0m\u001b[0;34m)\u001b[0m\u001b[0;34m:\u001b[0m\u001b[0;34m\u001b[0m\u001b[0;34m\u001b[0m\u001b[0m\n\u001b[1;32m   1536\u001b[0m               \u001b[0mcallbacks\u001b[0m\u001b[0;34m.\u001b[0m\u001b[0mon_test_batch_begin\u001b[0m\u001b[0;34m(\u001b[0m\u001b[0mstep\u001b[0m\u001b[0;34m)\u001b[0m\u001b[0;34m\u001b[0m\u001b[0;34m\u001b[0m\u001b[0m\n\u001b[0;32m-> 1537\u001b[0;31m               \u001b[0mtmp_logs\u001b[0m \u001b[0;34m=\u001b[0m \u001b[0mself\u001b[0m\u001b[0;34m.\u001b[0m\u001b[0mtest_function\u001b[0m\u001b[0;34m(\u001b[0m\u001b[0miterator\u001b[0m\u001b[0;34m)\u001b[0m\u001b[0;34m\u001b[0m\u001b[0;34m\u001b[0m\u001b[0m\n\u001b[0m\u001b[1;32m   1538\u001b[0m               \u001b[0;32mif\u001b[0m \u001b[0mdata_handler\u001b[0m\u001b[0;34m.\u001b[0m\u001b[0mshould_sync\u001b[0m\u001b[0;34m:\u001b[0m\u001b[0;34m\u001b[0m\u001b[0;34m\u001b[0m\u001b[0m\n\u001b[1;32m   1539\u001b[0m                 \u001b[0mcontext\u001b[0m\u001b[0;34m.\u001b[0m\u001b[0masync_wait\u001b[0m\u001b[0;34m(\u001b[0m\u001b[0;34m)\u001b[0m\u001b[0;34m\u001b[0m\u001b[0;34m\u001b[0m\u001b[0m\n",
            "\u001b[0;32m/usr/local/lib/python3.7/dist-packages/tensorflow/python/util/traceback_utils.py\u001b[0m in \u001b[0;36merror_handler\u001b[0;34m(*args, **kwargs)\u001b[0m\n\u001b[1;32m    148\u001b[0m     \u001b[0mfiltered_tb\u001b[0m \u001b[0;34m=\u001b[0m \u001b[0;32mNone\u001b[0m\u001b[0;34m\u001b[0m\u001b[0;34m\u001b[0m\u001b[0m\n\u001b[1;32m    149\u001b[0m     \u001b[0;32mtry\u001b[0m\u001b[0;34m:\u001b[0m\u001b[0;34m\u001b[0m\u001b[0;34m\u001b[0m\u001b[0m\n\u001b[0;32m--> 150\u001b[0;31m       \u001b[0;32mreturn\u001b[0m \u001b[0mfn\u001b[0m\u001b[0;34m(\u001b[0m\u001b[0;34m*\u001b[0m\u001b[0margs\u001b[0m\u001b[0;34m,\u001b[0m \u001b[0;34m**\u001b[0m\u001b[0mkwargs\u001b[0m\u001b[0;34m)\u001b[0m\u001b[0;34m\u001b[0m\u001b[0;34m\u001b[0m\u001b[0m\n\u001b[0m\u001b[1;32m    151\u001b[0m     \u001b[0;32mexcept\u001b[0m \u001b[0mException\u001b[0m \u001b[0;32mas\u001b[0m \u001b[0me\u001b[0m\u001b[0;34m:\u001b[0m\u001b[0;34m\u001b[0m\u001b[0;34m\u001b[0m\u001b[0m\n\u001b[1;32m    152\u001b[0m       \u001b[0mfiltered_tb\u001b[0m \u001b[0;34m=\u001b[0m \u001b[0m_process_traceback_frames\u001b[0m\u001b[0;34m(\u001b[0m\u001b[0me\u001b[0m\u001b[0;34m.\u001b[0m\u001b[0m__traceback__\u001b[0m\u001b[0;34m)\u001b[0m\u001b[0;34m\u001b[0m\u001b[0;34m\u001b[0m\u001b[0m\n",
            "\u001b[0;32m/usr/local/lib/python3.7/dist-packages/tensorflow/python/eager/def_function.py\u001b[0m in \u001b[0;36m__call__\u001b[0;34m(self, *args, **kwds)\u001b[0m\n\u001b[1;32m    908\u001b[0m \u001b[0;34m\u001b[0m\u001b[0m\n\u001b[1;32m    909\u001b[0m       \u001b[0;32mwith\u001b[0m \u001b[0mOptionalXlaContext\u001b[0m\u001b[0;34m(\u001b[0m\u001b[0mself\u001b[0m\u001b[0;34m.\u001b[0m\u001b[0m_jit_compile\u001b[0m\u001b[0;34m)\u001b[0m\u001b[0;34m:\u001b[0m\u001b[0;34m\u001b[0m\u001b[0;34m\u001b[0m\u001b[0m\n\u001b[0;32m--> 910\u001b[0;31m         \u001b[0mresult\u001b[0m \u001b[0;34m=\u001b[0m \u001b[0mself\u001b[0m\u001b[0;34m.\u001b[0m\u001b[0m_call\u001b[0m\u001b[0;34m(\u001b[0m\u001b[0;34m*\u001b[0m\u001b[0margs\u001b[0m\u001b[0;34m,\u001b[0m \u001b[0;34m**\u001b[0m\u001b[0mkwds\u001b[0m\u001b[0;34m)\u001b[0m\u001b[0;34m\u001b[0m\u001b[0;34m\u001b[0m\u001b[0m\n\u001b[0m\u001b[1;32m    911\u001b[0m \u001b[0;34m\u001b[0m\u001b[0m\n\u001b[1;32m    912\u001b[0m       \u001b[0mnew_tracing_count\u001b[0m \u001b[0;34m=\u001b[0m \u001b[0mself\u001b[0m\u001b[0;34m.\u001b[0m\u001b[0mexperimental_get_tracing_count\u001b[0m\u001b[0;34m(\u001b[0m\u001b[0;34m)\u001b[0m\u001b[0;34m\u001b[0m\u001b[0;34m\u001b[0m\u001b[0m\n",
            "\u001b[0;32m/usr/local/lib/python3.7/dist-packages/tensorflow/python/eager/def_function.py\u001b[0m in \u001b[0;36m_call\u001b[0;34m(self, *args, **kwds)\u001b[0m\n\u001b[1;32m    947\u001b[0m       \u001b[0;31m# In this case we have not created variables on the first call. So we can\u001b[0m\u001b[0;34m\u001b[0m\u001b[0;34m\u001b[0m\u001b[0;34m\u001b[0m\u001b[0m\n\u001b[1;32m    948\u001b[0m       \u001b[0;31m# run the first trace but we should fail if variables are created.\u001b[0m\u001b[0;34m\u001b[0m\u001b[0;34m\u001b[0m\u001b[0;34m\u001b[0m\u001b[0m\n\u001b[0;32m--> 949\u001b[0;31m       \u001b[0mresults\u001b[0m \u001b[0;34m=\u001b[0m \u001b[0mself\u001b[0m\u001b[0;34m.\u001b[0m\u001b[0m_stateful_fn\u001b[0m\u001b[0;34m(\u001b[0m\u001b[0;34m*\u001b[0m\u001b[0margs\u001b[0m\u001b[0;34m,\u001b[0m \u001b[0;34m**\u001b[0m\u001b[0mkwds\u001b[0m\u001b[0;34m)\u001b[0m\u001b[0;34m\u001b[0m\u001b[0;34m\u001b[0m\u001b[0m\n\u001b[0m\u001b[1;32m    950\u001b[0m       \u001b[0;32mif\u001b[0m \u001b[0mself\u001b[0m\u001b[0;34m.\u001b[0m\u001b[0m_created_variables\u001b[0m \u001b[0;32mand\u001b[0m \u001b[0;32mnot\u001b[0m \u001b[0mALLOW_DYNAMIC_VARIABLE_CREATION\u001b[0m\u001b[0;34m:\u001b[0m\u001b[0;34m\u001b[0m\u001b[0;34m\u001b[0m\u001b[0m\n\u001b[1;32m    951\u001b[0m         raise ValueError(\"Creating variables on a non-first call to a function\"\n",
            "\u001b[0;32m/usr/local/lib/python3.7/dist-packages/tensorflow/python/eager/function.py\u001b[0m in \u001b[0;36m__call__\u001b[0;34m(self, *args, **kwargs)\u001b[0m\n\u001b[1;32m   3129\u001b[0m        filtered_flat_args) = self._maybe_define_function(args, kwargs)\n\u001b[1;32m   3130\u001b[0m     return graph_function._call_flat(\n\u001b[0;32m-> 3131\u001b[0;31m         filtered_flat_args, captured_inputs=graph_function.captured_inputs)  # pylint: disable=protected-access\n\u001b[0m\u001b[1;32m   3132\u001b[0m \u001b[0;34m\u001b[0m\u001b[0m\n\u001b[1;32m   3133\u001b[0m   \u001b[0;34m@\u001b[0m\u001b[0mproperty\u001b[0m\u001b[0;34m\u001b[0m\u001b[0;34m\u001b[0m\u001b[0m\n",
            "\u001b[0;32m/usr/local/lib/python3.7/dist-packages/tensorflow/python/eager/function.py\u001b[0m in \u001b[0;36m_call_flat\u001b[0;34m(self, args, captured_inputs, cancellation_manager)\u001b[0m\n\u001b[1;32m   1958\u001b[0m       \u001b[0;31m# No tape is watching; skip to running the function.\u001b[0m\u001b[0;34m\u001b[0m\u001b[0;34m\u001b[0m\u001b[0;34m\u001b[0m\u001b[0m\n\u001b[1;32m   1959\u001b[0m       return self._build_call_outputs(self._inference_function.call(\n\u001b[0;32m-> 1960\u001b[0;31m           ctx, args, cancellation_manager=cancellation_manager))\n\u001b[0m\u001b[1;32m   1961\u001b[0m     forward_backward = self._select_forward_and_backward_functions(\n\u001b[1;32m   1962\u001b[0m         \u001b[0margs\u001b[0m\u001b[0;34m,\u001b[0m\u001b[0;34m\u001b[0m\u001b[0;34m\u001b[0m\u001b[0m\n",
            "\u001b[0;32m/usr/local/lib/python3.7/dist-packages/tensorflow/python/eager/function.py\u001b[0m in \u001b[0;36mcall\u001b[0;34m(self, ctx, args, cancellation_manager)\u001b[0m\n\u001b[1;32m    601\u001b[0m               \u001b[0minputs\u001b[0m\u001b[0;34m=\u001b[0m\u001b[0margs\u001b[0m\u001b[0;34m,\u001b[0m\u001b[0;34m\u001b[0m\u001b[0;34m\u001b[0m\u001b[0m\n\u001b[1;32m    602\u001b[0m               \u001b[0mattrs\u001b[0m\u001b[0;34m=\u001b[0m\u001b[0mattrs\u001b[0m\u001b[0;34m,\u001b[0m\u001b[0;34m\u001b[0m\u001b[0;34m\u001b[0m\u001b[0m\n\u001b[0;32m--> 603\u001b[0;31m               ctx=ctx)\n\u001b[0m\u001b[1;32m    604\u001b[0m         \u001b[0;32melse\u001b[0m\u001b[0;34m:\u001b[0m\u001b[0;34m\u001b[0m\u001b[0;34m\u001b[0m\u001b[0m\n\u001b[1;32m    605\u001b[0m           outputs = execute.execute_with_cancellation(\n",
            "\u001b[0;32m/usr/local/lib/python3.7/dist-packages/tensorflow/python/eager/execute.py\u001b[0m in \u001b[0;36mquick_execute\u001b[0;34m(op_name, num_outputs, inputs, attrs, ctx, name)\u001b[0m\n\u001b[1;32m     57\u001b[0m     \u001b[0mctx\u001b[0m\u001b[0;34m.\u001b[0m\u001b[0mensure_initialized\u001b[0m\u001b[0;34m(\u001b[0m\u001b[0;34m)\u001b[0m\u001b[0;34m\u001b[0m\u001b[0;34m\u001b[0m\u001b[0m\n\u001b[1;32m     58\u001b[0m     tensors = pywrap_tfe.TFE_Py_Execute(ctx._handle, device_name, op_name,\n\u001b[0;32m---> 59\u001b[0;31m                                         inputs, attrs, num_outputs)\n\u001b[0m\u001b[1;32m     60\u001b[0m   \u001b[0;32mexcept\u001b[0m \u001b[0mcore\u001b[0m\u001b[0;34m.\u001b[0m\u001b[0m_NotOkStatusException\u001b[0m \u001b[0;32mas\u001b[0m \u001b[0me\u001b[0m\u001b[0;34m:\u001b[0m\u001b[0;34m\u001b[0m\u001b[0;34m\u001b[0m\u001b[0m\n\u001b[1;32m     61\u001b[0m     \u001b[0;32mif\u001b[0m \u001b[0mname\u001b[0m \u001b[0;32mis\u001b[0m \u001b[0;32mnot\u001b[0m \u001b[0;32mNone\u001b[0m\u001b[0;34m:\u001b[0m\u001b[0;34m\u001b[0m\u001b[0;34m\u001b[0m\u001b[0m\n",
            "\u001b[0;31mKeyboardInterrupt\u001b[0m: "
          ]
        }
      ],
      "source": [
        "pr=model.evaluate(test_dataset)"
      ]
    },
    {
      "cell_type": "code",
      "execution_count": null,
      "metadata": {
        "id": "WpZJIOweqRm-"
      },
      "outputs": [],
      "source": [
        "def mha2jpg(mhapath,windowsCenter,windowsSize):\n",
        "    \n",
        "    \n",
        "    \n",
        "    \n",
        "    mhapath=str(mhapath)\n",
        "    \n",
        "    img_data=sitk.GetArrayFromImage(sitk.ReadImage(mhapath))\n",
        "    \n",
        "    channel = img_data.shape[0]\n",
        "\n",
        "    windowsCenter=np.array(windowsCenter)\n",
        "    windowsSize=np.array(windowsSize)\n",
        "    low = windowsCenter-windowsSize/2\n",
        "    high = windowsCenter+windowsSize/2\n",
        "    \n",
        "    if channel != 1177:\n",
        "      img_data=np.array(img_data)\n",
        "      img_data=cv2.resize(img_data,(512,512,1177))\n",
        "     \n",
        "    \n",
        "\n",
        "    return img_data\n",
        "\n",
        "\n"
      ]
    },
    {
      "cell_type": "code",
      "execution_count": null,
      "metadata": {
        "colab": {
          "base_uri": "https://localhost:8080/",
          "height": 303
        },
        "id": "FSjkXXRFNBjs",
        "outputId": "253c9dbe-468f-4a15-a007-8ef9b16c4bc1"
      },
      "outputs": [
        {
          "ename": "TypeError",
          "evalue": "ignored",
          "output_type": "error",
          "traceback": [
            "\u001b[0;31m---------------------------------------------------------------------------\u001b[0m",
            "\u001b[0;31mTypeError\u001b[0m                                 Traceback (most recent call last)",
            "\u001b[0;32m<ipython-input-93-a0b732556bbd>\u001b[0m in \u001b[0;36m<module>\u001b[0;34m()\u001b[0m\n\u001b[0;32m----> 1\u001b[0;31m \u001b[0mco\u001b[0m\u001b[0;34m=\u001b[0m\u001b[0mmha2jpg\u001b[0m\u001b[0;34m(\u001b[0m\u001b[0;34m'/content/drive/MyDrive/grand_challenge/destination/data/mha/504.mha'\u001b[0m\u001b[0;34m,\u001b[0m\u001b[0;36m100\u001b[0m\u001b[0;34m,\u001b[0m\u001b[0;36m200\u001b[0m\u001b[0;34m)\u001b[0m\u001b[0;34m\u001b[0m\u001b[0;34m\u001b[0m\u001b[0m\n\u001b[0m",
            "\u001b[0;32m<ipython-input-92-8292f1a51906>\u001b[0m in \u001b[0;36mmha2jpg\u001b[0;34m(mhapath, windowsCenter, windowsSize)\u001b[0m\n\u001b[1;32m     17\u001b[0m     \u001b[0;32mif\u001b[0m \u001b[0mchannel\u001b[0m \u001b[0;34m!=\u001b[0m \u001b[0;36m1177\u001b[0m\u001b[0;34m:\u001b[0m\u001b[0;34m\u001b[0m\u001b[0;34m\u001b[0m\u001b[0m\n\u001b[1;32m     18\u001b[0m       \u001b[0mimg_data\u001b[0m\u001b[0;34m=\u001b[0m\u001b[0mnp\u001b[0m\u001b[0;34m.\u001b[0m\u001b[0marray\u001b[0m\u001b[0;34m(\u001b[0m\u001b[0mimg_data\u001b[0m\u001b[0;34m)\u001b[0m\u001b[0;34m\u001b[0m\u001b[0;34m\u001b[0m\u001b[0m\n\u001b[0;32m---> 19\u001b[0;31m       \u001b[0mimg_data\u001b[0m\u001b[0;34m=\u001b[0m\u001b[0mcv2\u001b[0m\u001b[0;34m.\u001b[0m\u001b[0mresize\u001b[0m\u001b[0;34m(\u001b[0m\u001b[0mimg_data\u001b[0m\u001b[0;34m,\u001b[0m\u001b[0;34m(\u001b[0m\u001b[0;36m512\u001b[0m\u001b[0;34m,\u001b[0m\u001b[0;36m512\u001b[0m\u001b[0;34m,\u001b[0m\u001b[0;36m1177\u001b[0m\u001b[0;34m)\u001b[0m\u001b[0;34m)\u001b[0m\u001b[0;34m\u001b[0m\u001b[0;34m\u001b[0m\u001b[0m\n\u001b[0m\u001b[1;32m     20\u001b[0m \u001b[0;34m\u001b[0m\u001b[0m\n\u001b[1;32m     21\u001b[0m \u001b[0;34m\u001b[0m\u001b[0m\n",
            "\u001b[0;31mTypeError\u001b[0m: function takes exactly 2 arguments (3 given)"
          ]
        }
      ],
      "source": [
        "co=mha2jpg('/content/drive/MyDrive/grand_challenge/destination/data/mha/504.mha',100,200)"
      ]
    },
    {
      "cell_type": "code",
      "execution_count": null,
      "metadata": {
        "id": "vBv8B9x8NNGZ"
      },
      "outputs": [],
      "source": [
        "co.shape"
      ]
    },
    {
      "cell_type": "code",
      "execution_count": null,
      "metadata": {
        "id": "mZ4K3oJANWb9"
      },
      "outputs": [],
      "source": [
        ""
      ]
    }
  ],
  "metadata": {
    "accelerator": "GPU",
    "colab": {
      "collapsed_sections": [],
      "machine_shape": "hm",
      "name": "3D_CNN.ipynb",
      "provenance": [],
      "mount_file_id": "1QLFB-K7a8v8q2ShCD_LOEQLgm-bGDuRE",
      "authorship_tag": "ABX9TyPJnMS0apMMyI/Ombn1Bqu6",
      "include_colab_link": true
    },
    "kernelspec": {
      "display_name": "Python 3",
      "name": "python3"
    },
    "language_info": {
      "name": "python"
    }
  },
  "nbformat": 4,
  "nbformat_minor": 0
}